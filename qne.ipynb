{
 "cells": [
  {
   "cell_type": "code",
   "execution_count": 1,
   "metadata": {},
   "outputs": [],
   "source": [
    "from qiskit import QuantumRegister, ClassicalRegister, QuantumCircuit, transpile\n",
    "from qiskit_aer import Aer\n",
    "from qiskit.circuit import ParameterVector, Parameter\n",
    "from qiskit_algorithms.optimizers import COBYLA\n",
    "import numpy as np\n",
    "import math\n",
    "import matplotlib.pyplot as plt"
   ]
  },
  {
   "cell_type": "markdown",
   "metadata": {},
   "source": [
    "### Layers"
   ]
  },
  {
   "cell_type": "code",
   "execution_count": 2,
   "metadata": {},
   "outputs": [],
   "source": [
    "def encoding_layer(num_address_qubits, num_embedding_qubits, theta_params):\n",
    "    encoding_layer = QuantumCircuit(num_address_qubits + num_embedding_qubits)\n",
    "\n",
    "    # Unitary operations to encode the input data\n",
    "    for i in range(num_address_qubits):\n",
    "        encoding_layer.cry(theta_params[i], control_qubit=i, target_qubit=num_address_qubits)\n",
    "\n",
    "    return encoding_layer\n",
    "\n",
    "def mixing_layer(num_address_qubits, num_embedding_qubits):\n",
    "    mixing_layer = QuantumCircuit(num_address_qubits + num_embedding_qubits)\n",
    "\n",
    "    # TODO: is this important?\n",
    "    mixing_layer.x(num_address_qubits - 1)\n",
    "\n",
    "    # CNOT gates to mix the address register qubits\n",
    "    for i in range(num_address_qubits - 1):\n",
    "        mixing_layer.cx(i, i + 1)\n",
    "\n",
    "    return mixing_layer\n",
    "\n",
    "def measurement_layer(num_address_qubits, num_embedding_qubits):\n",
    "    measurement_layer = QuantumCircuit(num_address_qubits + num_embedding_qubits)\n",
    "    cr_measurement = ClassicalRegister(num_address_qubits, name='meas')\n",
    "    measurement_layer.add_register(cr_measurement)\n",
    "\n",
    "    # Apply the measurement layer rotations to the address register qubits\n",
    "    for i in range(num_address_qubits):\n",
    "        measurement_layer.ry(np.pi / 2, i)\n",
    "\n",
    "    # Measure only the address register qubits\n",
    "    for i in range(num_address_qubits):\n",
    "        measurement_layer.measure(i, cr_measurement[i])\n",
    "\n",
    "    return measurement_layer"
   ]
  },
  {
   "cell_type": "markdown",
   "metadata": {},
   "source": [
    "### Circuit"
   ]
  },
  {
   "cell_type": "code",
   "execution_count": 3,
   "metadata": {},
   "outputs": [],
   "source": [
    "def create_circuit(num_address_qubits, num_embedding_qubits, pqc_m):\n",
    "\n",
    "    # Create the quantum circuit\n",
    "    qc = QuantumCircuit(QuantumRegister(num_address_qubits, name='address'), QuantumRegister(num_embedding_qubits, name='embedding'))\n",
    "    cr_measurement = ClassicalRegister(num_address_qubits, name='measurement')\n",
    "    qc.add_register(cr_measurement)\n",
    "\n",
    "    # Apply Hadamard gates to the address register qubits to create a superposition\n",
    "    for i in range(num_address_qubits):\n",
    "        qc.h(i)\n",
    "\n",
    "    # Parameterized quantum circuit (PQC)\n",
    "    for i in range(pqc_m):\n",
    "        theta_params = [Parameter(f'theta_{i}_{j}') for j in range(num_address_qubits)]\n",
    "        qc.barrier()\n",
    "        qc.compose(encoding_layer(num_address_qubits, num_embedding_qubits, theta_params), inplace=True)\n",
    "        qc.barrier()\n",
    "        qc.compose(mixing_layer(num_address_qubits, num_embedding_qubits), inplace=True)\n",
    "\n",
    "    # Apply the measurement layer\n",
    "    qc.barrier()\n",
    "    qc.compose(measurement_layer(num_address_qubits, num_embedding_qubits), inplace=True)\n",
    "\n",
    "    return qc"
   ]
  },
  {
   "cell_type": "markdown",
   "metadata": {},
   "source": [
    "### Optimizer"
   ]
  },
  {
   "cell_type": "code",
   "execution_count": 4,
   "metadata": {},
   "outputs": [],
   "source": [
    "def estimate_inner_products_from_measurements(counts, num_nodes):\n",
    "    num_address_qubits = math.ceil(np.log2(num_nodes))\n",
    "\n",
    "    # Initialize inner product estimates\n",
    "    inner_products = np.zeros((num_nodes, num_nodes))\n",
    "\n",
    "    # Convert counts to probabilities\n",
    "    total_counts = sum(counts.values())\n",
    "    probabilities = {state: count / total_counts for state, count in counts.items()}\n",
    "\n",
    "    # Iterate over all possible address register states\n",
    "    for i in range(num_nodes):\n",
    "        for j in range(num_nodes):\n",
    "            # Convert to bit strings\n",
    "            bitstring_i = format(i, f'0{num_address_qubits}b')\n",
    "            bitstring_j = format(j, f'0{num_address_qubits}b')\n",
    "\n",
    "            # For simplicity, we consider the probability of each state as the magnitude of its amplitude squared\n",
    "            prob_i = probabilities.get(bitstring_i, 0)\n",
    "            prob_j = probabilities.get(bitstring_j, 0)\n",
    "\n",
    "            # Estimate inner products based on classical probabilities\n",
    "            inner_products[i, j] = np.sqrt(prob_i * prob_j)\n",
    "\n",
    "    return inner_products\n",
    "\n",
    "def objective_function(circuit, simulator, theta_vector, adjacency_matrix, gamma, scores):\n",
    "\n",
    "    # Assign parameters to the circuit and execute it\n",
    "    bound_circuit = circuit.assign_parameters(theta_vector)\n",
    "    job = simulator.run(bound_circuit, shots=8192)\n",
    "    counts = job.result().get_counts()\n",
    "\n",
    "    estimated_inner_products = estimate_inner_products_from_measurements(counts, len(adjacency_matrix))\n",
    "\n",
    "    # Calculate the loss based on the estimated inner products\n",
    "    loss = 0\n",
    "    max_loss =  np.sum(adjacency_matrix) - np.sum(np.diag(adjacency_matrix))\n",
    "\n",
    "    for i in range(len(adjacency_matrix)):\n",
    "        for j in range(len(adjacency_matrix)):\n",
    "            if i != j:  # Exclude self-loops\n",
    "                A_ij = adjacency_matrix[i, j]\n",
    "                inner_product = estimated_inner_products[i, j]\n",
    "                # Adjust the loss calculation for the deviation from the theoretical maximum\n",
    "                loss += A_ij * (1 - inner_product) - gamma * (1 - A_ij) * inner_product\n",
    "\n",
    "    # Scale and shift the loss from [-1, 1]\n",
    "    normalized_loss = loss / max_loss * 2 - 1\n",
    "\n",
    "    scores.append(normalized_loss)\n",
    "\n",
    "    return normalized_loss"
   ]
  },
  {
   "cell_type": "markdown",
   "metadata": {},
   "source": [
    "### Embedding"
   ]
  },
  {
   "cell_type": "code",
   "execution_count": 5,
   "metadata": {},
   "outputs": [],
   "source": [
    "def embed(adjacency_matrix, gamma, scores, pqc_m):\n",
    "    num_address_qubits = math.ceil(np.log2(len(adjacency_matrix)))\n",
    "\n",
    "    num_embedding_qubits = 1\n",
    "    circuit = create_circuit(num_address_qubits, num_embedding_qubits, pqc_m)\n",
    "\n",
    "    # plot the circuit\n",
    "    display(circuit.draw('mpl'))\n",
    "\n",
    "    simulator = Aer.get_backend('aer_simulator')\n",
    "    circuit = transpile(circuit, simulator)\n",
    "\n",
    "    optimizer = COBYLA(maxiter=250)\n",
    "    theta_initial = np.full(num_address_qubits * pqc_m, np.pi)\n",
    "    opt_result = optimizer.minimize(lambda theta_values: -objective_function(circuit, simulator, theta_values, adjacency_matrix, gamma, scores), theta_initial)\n",
    "\n",
    "    # bound to 0 to 2pi\n",
    "    optimal_theta = np.mod(opt_result.x, 2 * np.pi)\n",
    "\n",
    "    print(f'Optimal theta: {optimal_theta}')"
   ]
  },
  {
   "cell_type": "code",
   "execution_count": 6,
   "metadata": {},
   "outputs": [
    {
     "name": "stderr",
     "output_type": "stream",
     "text": [
      "/Users/andycaen/opt/anaconda3/lib/python3.8/site-packages/qiskit/visualization/circuit/matplotlib.py:266: FutureWarning: The default matplotlib drawer scheme will be changed to \"iqp\" in a following release. To silence this warning, specify the current default explicitly as style=\"clifford\", or the new default as style=\"iqp\".\n",
      "  self._style, def_font_ratio = load_style(self._style)\n"
     ]
    },
    {
     "data": {
      "image/png": "[encoded data removed]",
      "text/plain": [
       "<Figure size 988.328x325.08 with 1 Axes>"
      ]
     },
     "metadata": {},
     "output_type": "display_data"
    },
    {
     "name": "stdout",
     "output_type": "stream",
     "text": [
      "Optimal theta: [6.17237304 3.73749946 0.01270694]\n"
     ]
    },
    {
     "data": {
      "image/png": "[encoded data removed]",
      "text/plain": [
       "<Figure size 432x288 with 1 Axes>"
      ]
     },
     "metadata": {
      "needs_background": "light"
     },
     "output_type": "display_data"
    }
   ],
   "source": [
    "adjacency_matrix = np.array([[0, 1, 1, 0, 1], [1, 0, 1, 0, 0], [1, 1, 0, 0, 0], [1, 0, 0, 0, 1], [0, 0, 0, 1, 0]])\n",
    "gamma = 0.5\n",
    "pqc_m = 1\n",
    "scores = []\n",
    "\n",
    "embed(adjacency_matrix, gamma, scores, pqc_m)\n",
    "\n",
    "plt.plot(scores)\n",
    "plt.xlabel('Iteration')\n",
    "plt.ylabel('Objective Value')\n",
    "plt.title('Objective Function Over Time')\n",
    "plt.show()"
   ]
  }
 ],
 "metadata": {
  "kernelspec": {
   "display_name": "base",
   "language": "python",
   "name": "python3"
  },
  "language_info": {
   "codemirror_mode": {
    "name": "ipython",
    "version": 3
   },
   "file_extension": ".py",
   "mimetype": "text/x-python",
   "name": "python",
   "nbconvert_exporter": "python",
   "pygments_lexer": "ipython3",
   "version": "3.8.8"
  }
 },
 "nbformat": 4,
 "nbformat_minor": 2
}
