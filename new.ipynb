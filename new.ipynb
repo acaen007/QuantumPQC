{
 "cells": [
  {
   "cell_type": "code",
   "execution_count": 75,
   "metadata": {},
   "outputs": [
    {
     "name": "stderr",
     "output_type": "stream",
     "text": [
      "C:\\Users\\matss\\AppData\\Local\\Temp\\ipykernel_40812\\1264352937.py:72: DeprecationWarning: Using a qobj for run() is deprecated as of qiskit-aer 0.14 and will be removed no sooner than 3 months from that release date. Transpiled circuits should now be passed directly using `backend.run(circuits, **run_options).\n",
      "  result = simulator.run(qobj).result()\n"
     ]
    },
    {
     "data": {
      "image/png": "[encoded data removed]",
      "text/plain": [
       "<Figure size 640x480 with 1 Axes>"
      ]
     },
     "metadata": {},
     "output_type": "display_data"
    },
    {
     "name": "stdout",
     "output_type": "stream",
     "text": [
      "Optimized Parameters: [2.35330497 5.97351416 4.59925358 3.76148219]\n"
     ]
    }
   ],
   "source": [
    "from qiskit import QuantumCircuit, transpile, assemble\n",
    "from qiskit_aer import Aer\n",
    "import numpy as np\n",
    "import matplotlib.pyplot as plt\n",
    "\n",
    "np.random.seed(42)\n",
    "N = 4  # Number of nodes\n",
    "n = int(np.ceil(np.log2(N)))  # Number of qubits in the address register\n",
    "m = 1  # Number of qubits in the embedding register (you can adjust as needed)\n",
    "\n",
    "gamma = 0.5\n",
    "alpha = 0.1\n",
    "delta_theta = 0.01\n",
    "beta = 0.1\n",
    "t = 1  # Time parameter for evolution\n",
    "\n",
    "theta = np.random.rand(N) * 2 * np.pi  # Initialize theta randomly\n",
    "adj_matrix = np.array([\n",
    "    [0, 1, 0, 0],\n",
    "    [1, 0, 1, 0],\n",
    "    [0, 1, 0, 1],\n",
    "    [0, 0, 1, 0]\n",
    "])\n",
    "\n",
    "def quantum_encoder(theta, N, m):\n",
    "    qc = QuantumCircuit(N + m)\n",
    "    for i in range(N):\n",
    "        qc.ry(theta[i], i)\n",
    "    return qc\n",
    "\n",
    "def matrix_inverse_evolution(qc, beta, adj_matrix, N, t=1):\n",
    "    identity = np.eye(N)\n",
    "    I_minus_betaA = identity - beta * adj_matrix\n",
    "    \n",
    "    # Apply Trotter-Suzuki decomposition to approximate e^{-i(I - beta*A)*t}\n",
    "    for _ in range(t):\n",
    "        for i in range(N):\n",
    "            for j in range(N):\n",
    "                if I_minus_betaA[i][j] != 0:\n",
    "                    angle = -2 * I_minus_betaA[i][j]\n",
    "                    qc.rz(angle, j)\n",
    "    return qc\n",
    "\n",
    "def hadamard_test(theta, beta, adj_matrix, N, m, t=1):\n",
    "    qc = QuantumCircuit(1 + N + m)  # 1 ancilla qubit + address and embedding registers\n",
    "    \n",
    "    # Prepare the initial state\n",
    "    qc.h(0)  # Hadamard on the ancilla qubit\n",
    "    \n",
    "    # Quantum encoder circuit\n",
    "    encoder_qc = quantum_encoder(theta, N, m)\n",
    "    qc = qc.compose(encoder_qc, qubits=range(1, N + m + 1))\n",
    "    \n",
    "    # Apply controlled-U (matrix-inverse evolution)\n",
    "    controlled_U = QuantumCircuit(N + m)\n",
    "    controlled_U = matrix_inverse_evolution(controlled_U, beta, adj_matrix, N, t)\n",
    "    qc = qc.compose(controlled_U.control(1), qubits=[0] + list(range(1, N + m + 1)))\n",
    "    \n",
    "    # Apply the second Hadamard gate\n",
    "    qc.h(0)\n",
    "    \n",
    "    # Measure the ancilla qubit\n",
    "    qc.measure_all()\n",
    "    \n",
    "    return qc\n",
    "\n",
    "def estimate_L(theta, adj_matrix, beta, N, m, t):\n",
    "    qc = hadamard_test(theta, beta, adj_matrix, N, m, t)\n",
    "    simulator = Aer.get_backend('aer_simulator')\n",
    "    transpiled_qc = transpile(qc, simulator)\n",
    "    qobj = assemble(transpiled_qc)\n",
    "    result = simulator.run(qobj).result()\n",
    "    counts = result.get_counts()\n",
    "    \n",
    "    # Calculate expectation value <psi|U|psi>\n",
    "    expectation_value = (counts.get('0', 0) - counts.get('1', 0)) / sum(counts.values())\n",
    "    return expectation_value\n",
    "\n",
    "def optimize_parameters(theta, adj_matrix, beta, alpha, delta_theta, N, m, t, max_iter=100):\n",
    "    objective_values = []\n",
    "    for _ in range(max_iter):\n",
    "        grad = np.zeros_like(theta)\n",
    "        for i in range(len(theta)):\n",
    "            theta_plus = theta.copy()\n",
    "            theta_minus = theta.copy()\n",
    "            theta_plus[i] += delta_theta\n",
    "            theta_minus[i] -= delta_theta\n",
    "            L_plus = estimate_L(theta_plus, adj_matrix, beta, N, m, t)\n",
    "            L_minus = estimate_L(theta_minus, adj_matrix, beta, N, m, t)\n",
    "            grad[i] = (L_plus - L_minus) / (2 * delta_theta)\n",
    "        theta += alpha * grad\n",
    "        L_theta = estimate_L(theta, adj_matrix, beta, N, m, t)\n",
    "        objective_values.append(L_theta)\n",
    "        if np.linalg.norm(grad) < 1e-6:\n",
    "            break\n",
    "    return theta, objective_values\n",
    "\n",
    "optimized_theta, objective_values = optimize_parameters(theta, adj_matrix, beta, alpha, delta_theta, N, m, t)\n",
    "\n",
    "# Plotting the objective function\n",
    "plt.plot(objective_values)\n",
    "plt.xlabel('Iteration')\n",
    "plt.ylabel('Objective Function Value')\n",
    "plt.title('Optimization of Objective Function')\n",
    "plt.show()\n",
    "\n",
    "print(\"Optimized Parameters:\", optimized_theta)\n"
   ]
  },
  {
   "cell_type": "code",
   "execution_count": null,
   "metadata": {},
   "outputs": [],
   "source": []
  }
 ],
 "metadata": {
  "kernelspec": {
   "display_name": "base",
   "language": "python",
   "name": "python3"
  },
  "language_info": {
   "codemirror_mode": {
    "name": "ipython",
    "version": 3
   },
   "file_extension": ".py",
   "mimetype": "text/x-python",
   "name": "python",
   "nbconvert_exporter": "python",
   "pygments_lexer": "ipython3",
   "version": "3.11.5"
  }
 },
 "nbformat": 4,
 "nbformat_minor": 2
}
