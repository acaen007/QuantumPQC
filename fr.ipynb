{
 "cells": [
  {
   "cell_type": "code",
   "execution_count": 803,
   "metadata": {},
   "outputs": [],
   "source": [
    "from qiskit import QuantumRegister, ClassicalRegister, QuantumCircuit, transpile\n",
    "from qiskit_aer import Aer\n",
    "from qiskit.circuit import ParameterVector\n",
    "from qiskit_algorithms.optimizers import COBYLA\n",
    "import numpy as np\n",
    "\n",
    "pqc_m = 1\n",
    "num_address_qubits = 2\n",
    "num_embedding_qubits = 1\n",
    "num_qubits_total = num_address_qubits + num_embedding_qubits"
   ]
  },
  {
   "cell_type": "markdown",
   "metadata": {},
   "source": [
    "### Layers"
   ]
  },
  {
   "cell_type": "code",
   "execution_count": 804,
   "metadata": {},
   "outputs": [],
   "source": [
    "def encoding_layer(theta_params):\n",
    "    encoding_layer = QuantumCircuit(num_qubits_total)\n",
    "\n",
    "    # Apply controlled unitary operations to the embedding register\n",
    "    # We use controlled Y-rotations for illustration; replace with appropriate unitaries\n",
    "    for i in range(num_address_qubits):\n",
    "        encoding_layer.cry(theta_params[i], control_qubit=i, target_qubit=num_address_qubits)\n",
    "\n",
    "    return encoding_layer\n",
    "\n",
    "def mixing_layer():\n",
    "    mixing_layer = QuantumCircuit(num_qubits_total)\n",
    "\n",
    "    # Apply the mixing layer with CNOT gates\n",
    "    for i in range(num_address_qubits - 1):\n",
    "        mixing_layer.cx(i, i + 1)\n",
    "\n",
    "    return mixing_layer\n",
    "\n",
    "def measurement_layer():\n",
    "    measurement_layer = QuantumCircuit(num_qubits_total)\n",
    "    cr_measurement = ClassicalRegister(num_address_qubits, name='meas')\n",
    "    measurement_layer.add_register(cr_measurement)\n",
    "\n",
    "    # Apply the measurement layer rotations to the address register qubits\n",
    "    for i in range(num_address_qubits):\n",
    "        measurement_layer.ry(np.pi / 2, i)\n",
    "\n",
    "    # Measure only the address register qubits\n",
    "    for i in range(num_address_qubits):\n",
    "        measurement_layer.measure(i, cr_measurement[i])\n",
    "\n",
    "    return measurement_layer"
   ]
  },
  {
   "cell_type": "markdown",
   "metadata": {},
   "source": [
    "### Circuit"
   ]
  },
  {
   "cell_type": "code",
   "execution_count": 805,
   "metadata": {},
   "outputs": [],
   "source": [
    "def create_circuit(theta_params):\n",
    "\n",
    "    # Create the quantum circuit\n",
    "    main_circuit = QuantumCircuit(QuantumRegister(num_address_qubits, name='address'), QuantumRegister(num_embedding_qubits, name='embedding'))\n",
    "    cr_measurement = ClassicalRegister(num_address_qubits, name='measurement')\n",
    "    main_circuit.add_register(cr_measurement)\n",
    "\n",
    "    # Apply Hadamard gates to the address register qubits to create a superposition\n",
    "    for i in range(num_address_qubits):\n",
    "        main_circuit.h(i)\n",
    "\n",
    "    # Parameterized quantum circuit (PQC)\n",
    "    main_circuit.barrier()\n",
    "    pqc = QuantumCircuit(num_qubits_total)\n",
    "    for i in range(pqc_m):\n",
    "        pqc.compose(encoding_layer(theta_params), inplace=True)\n",
    "        pqc.compose(mixing_layer(), inplace=True)\n",
    "    main_circuit.compose(pqc, inplace=True)\n",
    "\n",
    "    # Apply the measurement layer\n",
    "    main_circuit.barrier()\n",
    "    main_circuit.compose(measurement_layer(), inplace=True)\n",
    "\n",
    "    return main_circuit"
   ]
  },
  {
   "cell_type": "markdown",
   "metadata": {},
   "source": [
    "### Simulation"
   ]
  },
  {
   "cell_type": "code",
   "execution_count": 806,
   "metadata": {},
   "outputs": [
    {
     "data": {
      "image/png": "[encoded data removed]",
      "text/plain": [
       "<Figure size 1038.23x367.889 with 1 Axes>"
      ]
     },
     "execution_count": 806,
     "metadata": {},
     "output_type": "execute_result"
    }
   ],
   "source": [
    "simulator = Aer.get_backend('aer_simulator')\n",
    "\n",
    "theta = ParameterVector('θ', length=num_address_qubits)\n",
    "circuit = create_circuit(theta)\n",
    "circuit.draw(output='mpl')"
   ]
  },
  {
   "cell_type": "code",
   "execution_count": 807,
   "metadata": {},
   "outputs": [],
   "source": [
    "# Transpile for simulation\n",
    "transpiled_qc = transpile(circuit, simulator)"
   ]
  },
  {
   "cell_type": "code",
   "execution_count": 808,
   "metadata": {},
   "outputs": [],
   "source": [
    "def estimate_inner_products_from_measurements(counts, num_address_qubits):\n",
    "    # Initialize inner product estimates\n",
    "    inner_products = np.zeros((2**num_address_qubits, 2**num_address_qubits))\n",
    "\n",
    "    # Convert counts to probabilities\n",
    "    total_counts = sum(counts.values())\n",
    "    probabilities = {state: count / total_counts for state, count in counts.items()}\n",
    "\n",
    "    # Iterate over all possible address register states\n",
    "    for i in range(2**num_address_qubits):\n",
    "        for j in range(2**num_address_qubits):\n",
    "            # Convert to bit strings\n",
    "            bitstring_i = format(i, f'0{num_address_qubits}b')\n",
    "            bitstring_j = format(j, f'0{num_address_qubits}b')\n",
    "\n",
    "            # For simplicity, we consider the probability of each state as the magnitude of its amplitude squared\n",
    "            prob_i = probabilities.get(bitstring_i, 0)\n",
    "            prob_j = probabilities.get(bitstring_j, 0)\n",
    "\n",
    "            # Estimate inner products based on classical probabilities\n",
    "            inner_products[i, j] = np.sqrt(prob_i * prob_j)\n",
    "\n",
    "    return inner_products\n",
    "\n",
    "# Use the estimate_inner_products_from_measurements function within the objective_function\n",
    "def objective_function(theta_values, adjacency_matrix, gamma):\n",
    "    global iteration\n",
    "\n",
    "    # Assign parameters to the circuit and execute it\n",
    "    bound_circuit = transpiled_qc.assign_parameters({theta: theta_values})\n",
    "    job = simulator.run(bound_circuit, shots=8192)\n",
    "    counts = job.result().get_counts()\n",
    "\n",
    "    estimated_inner_products = estimate_inner_products_from_measurements(counts, num_address_qubits)\n",
    "\n",
    "    # Calculate the loss based on the estimated inner products\n",
    "    loss = 0\n",
    "    max_loss =  np.sum(adjacency_matrix) - np.sum(np.diag(adjacency_matrix))\n",
    "\n",
    "    for i in range(2**num_address_qubits):\n",
    "        for j in range(2**num_address_qubits):\n",
    "            if i != j:  # Exclude self-loops\n",
    "                A_ij = adjacency_matrix[i, j]\n",
    "                inner_product = estimated_inner_products[i, j]\n",
    "                # Adjust the loss calculation for the deviation from the theoretical maximum\n",
    "                loss += A_ij * (1 - inner_product) - gamma * (1 - A_ij) * inner_product\n",
    "\n",
    "    # Scale and shift the loss from [-1, 1]\n",
    "    normalized_loss = loss / max_loss * 2 - 1\n",
    "\n",
    "    print('Iteration: {:2d} | Objective: {:0.7f}'.format(iteration, normalized_loss))\n",
    "\n",
    "    iteration += 1\n",
    "    return normalized_loss"
   ]
  },
  {
   "cell_type": "code",
   "execution_count": 809,
   "metadata": {},
   "outputs": [
    {
     "name": "stdout",
     "output_type": "stream",
     "text": [
      "Iteration:  0 | Objective: 0.3204962\n",
      "Iteration:  1 | Objective: 0.3567305\n",
      "Iteration:  2 | Objective: 0.3808101\n",
      "Iteration:  3 | Objective: 0.5480402\n",
      "Iteration:  4 | Objective: 0.7371090\n",
      "Iteration:  5 | Objective: 0.6854972\n",
      "Iteration:  6 | Objective: 0.8521582\n",
      "Iteration:  7 | Objective: 0.7979268\n",
      "Iteration:  8 | Objective: 0.9591892\n",
      "Iteration:  9 | Objective: 0.9138620\n",
      "Iteration: 10 | Objective: 0.9188913\n",
      "Iteration: 11 | Objective: 0.9380727\n",
      "Iteration: 12 | Objective: 0.9041713\n",
      "Iteration: 13 | Objective: 0.9772546\n",
      "Iteration: 14 | Objective: 0.9858870\n",
      "Iteration: 15 | Objective: 0.9820077\n",
      "Iteration: 16 | Objective: 0.9631685\n",
      "Iteration: 17 | Objective: 0.9936869\n",
      "Iteration: 18 | Objective: 0.9846621\n",
      "Iteration: 19 | Objective: 0.9873762\n",
      "Iteration: 20 | Objective: 0.9846621\n",
      "Iteration: 21 | Objective: 0.9910725\n",
      "Iteration: 22 | Objective: 0.9873762\n",
      "Iteration: 23 | Objective: 0.9936869\n",
      "Iteration: 24 | Objective: 0.9826347\n",
      "Iteration: 25 | Objective: 0.9936869\n",
      "Iteration: 26 | Objective: 0.9873049\n",
      "Iteration: 27 | Objective: 0.9910725\n",
      "Iteration: 28 | Objective: 0.9826347\n",
      "Iteration: 29 | Objective: 0.9846621\n",
      "Iteration: 30 | Objective: 0.9846621\n",
      "Iteration: 31 | Objective: 0.9873049\n",
      "Iteration: 32 | Objective: 0.9858870\n",
      "Iteration: 33 | Objective: 0.9858870\n",
      "Iteration: 34 | Objective: 0.9910725\n",
      "[6.21197963 6.25026881]\n",
      "[6.21197963 6.25026881]\n"
     ]
    }
   ],
   "source": [
    "adjacency_matrix = np.array([[0, 1, 1, 0], [1, 0, 1, 0], [1, 1, 0, 0], [1, 0, 0, 0]])\n",
    "gamma = 0.5\n",
    "iteration = 0\n",
    "\n",
    "# Set up the optimizer\n",
    "optimizer = COBYLA(maxiter=250)\n",
    "\n",
    "theta_initial = np.full(num_address_qubits, np.pi)\n",
    "opt_result = optimizer.minimize(lambda theta_values: -objective_function(theta_values, adjacency_matrix, gamma), theta_initial)\n",
    "\n",
    "# bound to 0 to 2pi\n",
    "optimal_theta = np.mod(opt_result.x, 2 * np.pi)"
   ]
  }
 ],
 "metadata": {
  "kernelspec": {
   "display_name": "base",
   "language": "python",
   "name": "python3"
  },
  "language_info": {
   "codemirror_mode": {
    "name": "ipython",
    "version": 3
   },
   "file_extension": ".py",
   "mimetype": "text/x-python",
   "name": "python",
   "nbconvert_exporter": "python",
   "pygments_lexer": "ipython3",
   "version": "3.11.5"
  }
 },
 "nbformat": 4,
 "nbformat_minor": 2
}
